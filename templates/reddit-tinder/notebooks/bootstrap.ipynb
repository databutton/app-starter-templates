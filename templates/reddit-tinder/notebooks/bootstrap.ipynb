{
 "cells": [
  {
   "cell_type": "code",
   "execution_count": 2,
   "id": "8f4b28df-be87-45e7-beb7-66818c719c50",
   "metadata": {},
   "outputs": [],
   "source": [
    "%load_ext autoreload\n",
    "\n",
    "%autoreload 2"
   ]
  },
  {
   "cell_type": "code",
   "execution_count": 3,
   "id": "191c53f5-88c9-400d-affb-ece238d51f30",
   "metadata": {},
   "outputs": [],
   "source": [
    "import databutton as db\n",
    "import pandas as pd"
   ]
  },
  {
   "cell_type": "code",
   "execution_count": 4,
   "id": "3bc12416-70f4-4313-9019-e4589edd4b65",
   "metadata": {},
   "outputs": [],
   "source": [
    "df = pd.read_csv('../while_waiting_for_store.csv')\n",
    "df['relevance'] = -1\n"
   ]
  },
  {
   "cell_type": "code",
   "execution_count": 5,
   "id": "5c74640b-43da-4b4d-ba4c-0b0557a45cb4",
   "metadata": {},
   "outputs": [
    {
     "data": {
      "text/plain": [
       "True"
      ]
     },
     "execution_count": 5,
     "metadata": {},
     "output_type": "execute_result"
    }
   ],
   "source": [
    "db.storage.dataframes.put(df, 'full-dataset.csv')"
   ]
  },
  {
   "cell_type": "code",
   "execution_count": 35,
   "id": "8569d36a-95b1-4e9d-bf63-05e0de48a9cc",
   "metadata": {},
   "outputs": [],
   "source": [
    "dff = db.storage.dataframes.get('full-dataset.csv')"
   ]
  },
  {
   "cell_type": "code",
   "execution_count": 36,
   "id": "0a8ba92e-df8e-438e-b232-5c61d9ce7bdf",
   "metadata": {},
   "outputs": [
    {
     "data": {
      "text/html": [
       "<div>\n",
       "<style scoped>\n",
       "    .dataframe tbody tr th:only-of-type {\n",
       "        vertical-align: middle;\n",
       "    }\n",
       "\n",
       "    .dataframe tbody tr th {\n",
       "        vertical-align: top;\n",
       "    }\n",
       "\n",
       "    .dataframe thead th {\n",
       "        text-align: right;\n",
       "    }\n",
       "</style>\n",
       "<table border=\"1\" class=\"dataframe\">\n",
       "  <thead>\n",
       "    <tr style=\"text-align: right;\">\n",
       "      <th></th>\n",
       "      <th>selftext</th>\n",
       "      <th>full_link</th>\n",
       "      <th>num_comments</th>\n",
       "      <th>score</th>\n",
       "      <th>retrieved_on</th>\n",
       "      <th>relevance</th>\n",
       "    </tr>\n",
       "    <tr>\n",
       "      <th>title</th>\n",
       "      <th></th>\n",
       "      <th></th>\n",
       "      <th></th>\n",
       "      <th></th>\n",
       "      <th></th>\n",
       "      <th></th>\n",
       "    </tr>\n",
       "  </thead>\n",
       "  <tbody>\n",
       "    <tr>\n",
       "      <th>Best papers</th>\n",
       "      <td>TLDR: What papers in your sub field do you thi...</td>\n",
       "      <td>https://www.reddit.com/r/datascience/comments/...</td>\n",
       "      <td>0</td>\n",
       "      <td>1</td>\n",
       "      <td>1650307487</td>\n",
       "      <td>-1</td>\n",
       "    </tr>\n",
       "    <tr>\n",
       "      <th>I Need Help With My Honors Chemistry Project Data Analysis</th>\n",
       "      <td># Hi so in my Honors Chem Project I measured t...</td>\n",
       "      <td>https://www.reddit.com/r/datascience/comments/...</td>\n",
       "      <td>0</td>\n",
       "      <td>1</td>\n",
       "      <td>1650310497</td>\n",
       "      <td>-1</td>\n",
       "    </tr>\n",
       "    <tr>\n",
       "      <th>Ubiquant Market Prediction EDA - Complete Source Code</th>\n",
       "      <td>NaN</td>\n",
       "      <td>https://www.reddit.com/r/datascience/comments/...</td>\n",
       "      <td>0</td>\n",
       "      <td>1</td>\n",
       "      <td>1650310673</td>\n",
       "      <td>-1</td>\n",
       "    </tr>\n",
       "    <tr>\n",
       "      <th>Hello Everyone! Im usuing the ARIMA Model to do forecasting on a dataset read in. In the graph the Arima Model represents itself as starting in 1976 . How do show the model along side the Close/Last 2012-2022. Even though I have data showing from the first point how can I show data from 2012 on?</th>\n",
       "      <td>NaN</td>\n",
       "      <td>https://www.reddit.com/r/datascience/comments/...</td>\n",
       "      <td>0</td>\n",
       "      <td>1</td>\n",
       "      <td>1650312837</td>\n",
       "      <td>-1</td>\n",
       "    </tr>\n",
       "    <tr>\n",
       "      <th>Can an Economics graduate be a Data Scientist?</th>\n",
       "      <td>The previous post was deleted due to insuffici...</td>\n",
       "      <td>https://www.reddit.com/r/datascience/comments/...</td>\n",
       "      <td>0</td>\n",
       "      <td>1</td>\n",
       "      <td>1650313913</td>\n",
       "      <td>-1</td>\n",
       "    </tr>\n",
       "  </tbody>\n",
       "</table>\n",
       "</div>"
      ],
      "text/plain": [
       "                                                                                             selftext  \\\n",
       "title                                                                                                   \n",
       "Best papers                                         TLDR: What papers in your sub field do you thi...   \n",
       "I Need Help With My Honors Chemistry Project Da...  # Hi so in my Honors Chem Project I measured t...   \n",
       "Ubiquant Market Prediction EDA - Complete Sourc...                                                NaN   \n",
       "Hello Everyone! Im usuing the ARIMA Model to do...                                                NaN   \n",
       "Can an Economics graduate be a Data Scientist?      The previous post was deleted due to insuffici...   \n",
       "\n",
       "                                                                                            full_link  \\\n",
       "title                                                                                                   \n",
       "Best papers                                         https://www.reddit.com/r/datascience/comments/...   \n",
       "I Need Help With My Honors Chemistry Project Da...  https://www.reddit.com/r/datascience/comments/...   \n",
       "Ubiquant Market Prediction EDA - Complete Sourc...  https://www.reddit.com/r/datascience/comments/...   \n",
       "Hello Everyone! Im usuing the ARIMA Model to do...  https://www.reddit.com/r/datascience/comments/...   \n",
       "Can an Economics graduate be a Data Scientist?      https://www.reddit.com/r/datascience/comments/...   \n",
       "\n",
       "                                                    num_comments  score  \\\n",
       "title                                                                     \n",
       "Best papers                                                    0      1   \n",
       "I Need Help With My Honors Chemistry Project Da...             0      1   \n",
       "Ubiquant Market Prediction EDA - Complete Sourc...             0      1   \n",
       "Hello Everyone! Im usuing the ARIMA Model to do...             0      1   \n",
       "Can an Economics graduate be a Data Scientist?                 0      1   \n",
       "\n",
       "                                                    retrieved_on  relevance  \n",
       "title                                                                        \n",
       "Best papers                                           1650307487         -1  \n",
       "I Need Help With My Honors Chemistry Project Da...    1650310497         -1  \n",
       "Ubiquant Market Prediction EDA - Complete Sourc...    1650310673         -1  \n",
       "Hello Everyone! Im usuing the ARIMA Model to do...    1650312837         -1  \n",
       "Can an Economics graduate be a Data Scientist?        1650313913         -1  "
      ]
     },
     "execution_count": 36,
     "metadata": {},
     "output_type": "execute_result"
    }
   ],
   "source": [
    "dff.head()"
   ]
  },
  {
   "cell_type": "code",
   "execution_count": null,
   "id": "24860270-2df1-4b88-87f2-71e479c7584b",
   "metadata": {},
   "outputs": [],
   "source": []
  }
 ],
 "metadata": {
  "kernelspec": {
   "display_name": "Python 3 (ipykernel)",
   "language": "python",
   "name": "python3"
  },
  "language_info": {
   "codemirror_mode": {
    "name": "ipython",
    "version": 3
   },
   "file_extension": ".py",
   "mimetype": "text/x-python",
   "name": "python",
   "nbconvert_exporter": "python",
   "pygments_lexer": "ipython3",
   "version": "3.9.12"
  }
 },
 "nbformat": 4,
 "nbformat_minor": 5
}
