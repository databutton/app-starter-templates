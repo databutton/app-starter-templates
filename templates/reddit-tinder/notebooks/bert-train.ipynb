{
 "cells": [
  {
   "cell_type": "code",
   "execution_count": 5,
   "id": "2f3a8fd1-25a9-426d-a6be-c93b750cbcb8",
   "metadata": {},
   "outputs": [],
   "source": [
    "import sys\n",
    "sys.path.append('../')\n",
    "import pandas as pd\n",
    "import numpy as np\n",
    "import pickle\n",
    "\n",
    "from lib.rmodel import Dataset, BertClassifier, train, predict, evaluate"
   ]
  },
  {
   "cell_type": "code",
   "execution_count": 2,
   "id": "47a53036-31ab-4374-bf15-a4dca17a7cbf",
   "metadata": {},
   "outputs": [
    {
     "data": {
      "text/html": [
       "<div>\n",
       "<style scoped>\n",
       "    .dataframe tbody tr th:only-of-type {\n",
       "        vertical-align: middle;\n",
       "    }\n",
       "\n",
       "    .dataframe tbody tr th {\n",
       "        vertical-align: top;\n",
       "    }\n",
       "\n",
       "    .dataframe thead th {\n",
       "        text-align: right;\n",
       "    }\n",
       "</style>\n",
       "<table border=\"1\" class=\"dataframe\">\n",
       "  <thead>\n",
       "    <tr style=\"text-align: right;\">\n",
       "      <th></th>\n",
       "      <th>title</th>\n",
       "      <th>selftext</th>\n",
       "      <th>full_link</th>\n",
       "      <th>num_comments</th>\n",
       "      <th>score</th>\n",
       "      <th>retrieved_on</th>\n",
       "      <th>relevance</th>\n",
       "    </tr>\n",
       "  </thead>\n",
       "  <tbody>\n",
       "    <tr>\n",
       "      <th>0</th>\n",
       "      <td>Best papers</td>\n",
       "      <td>TLDR: What papers in your sub field do you thi...</td>\n",
       "      <td>https://www.reddit.com/r/datascience/comments/...</td>\n",
       "      <td>0</td>\n",
       "      <td>1</td>\n",
       "      <td>1650307487</td>\n",
       "      <td>-1</td>\n",
       "    </tr>\n",
       "    <tr>\n",
       "      <th>1</th>\n",
       "      <td>I Need Help With My Honors Chemistry Project D...</td>\n",
       "      <td># Hi so in my Honors Chem Project I measured t...</td>\n",
       "      <td>https://www.reddit.com/r/datascience/comments/...</td>\n",
       "      <td>0</td>\n",
       "      <td>1</td>\n",
       "      <td>1650310497</td>\n",
       "      <td>-1</td>\n",
       "    </tr>\n",
       "    <tr>\n",
       "      <th>2</th>\n",
       "      <td>Ubiquant Market Prediction EDA - Complete Sour...</td>\n",
       "      <td>NaN</td>\n",
       "      <td>https://www.reddit.com/r/datascience/comments/...</td>\n",
       "      <td>0</td>\n",
       "      <td>1</td>\n",
       "      <td>1650310673</td>\n",
       "      <td>-1</td>\n",
       "    </tr>\n",
       "    <tr>\n",
       "      <th>3</th>\n",
       "      <td>Hello Everyone! Im usuing the ARIMA Model to d...</td>\n",
       "      <td>NaN</td>\n",
       "      <td>https://www.reddit.com/r/datascience/comments/...</td>\n",
       "      <td>0</td>\n",
       "      <td>1</td>\n",
       "      <td>1650312837</td>\n",
       "      <td>-1</td>\n",
       "    </tr>\n",
       "    <tr>\n",
       "      <th>4</th>\n",
       "      <td>Can an Economics graduate be a Data Scientist?</td>\n",
       "      <td>The previous post was deleted due to insuffici...</td>\n",
       "      <td>https://www.reddit.com/r/datascience/comments/...</td>\n",
       "      <td>0</td>\n",
       "      <td>1</td>\n",
       "      <td>1650313913</td>\n",
       "      <td>-1</td>\n",
       "    </tr>\n",
       "  </tbody>\n",
       "</table>\n",
       "</div>"
      ],
      "text/plain": [
       "                                               title  \\\n",
       "0                                        Best papers   \n",
       "1  I Need Help With My Honors Chemistry Project D...   \n",
       "2  Ubiquant Market Prediction EDA - Complete Sour...   \n",
       "3  Hello Everyone! Im usuing the ARIMA Model to d...   \n",
       "4     Can an Economics graduate be a Data Scientist?   \n",
       "\n",
       "                                            selftext  \\\n",
       "0  TLDR: What papers in your sub field do you thi...   \n",
       "1  # Hi so in my Honors Chem Project I measured t...   \n",
       "2                                                NaN   \n",
       "3                                                NaN   \n",
       "4  The previous post was deleted due to insuffici...   \n",
       "\n",
       "                                           full_link  num_comments  score  \\\n",
       "0  https://www.reddit.com/r/datascience/comments/...             0      1   \n",
       "1  https://www.reddit.com/r/datascience/comments/...             0      1   \n",
       "2  https://www.reddit.com/r/datascience/comments/...             0      1   \n",
       "3  https://www.reddit.com/r/datascience/comments/...             0      1   \n",
       "4  https://www.reddit.com/r/datascience/comments/...             0      1   \n",
       "\n",
       "   retrieved_on  relevance  \n",
       "0    1650307487         -1  \n",
       "1    1650310497         -1  \n",
       "2    1650310673         -1  \n",
       "3    1650312837         -1  \n",
       "4    1650313913         -1  "
      ]
     },
     "execution_count": 2,
     "metadata": {},
     "output_type": "execute_result"
    }
   ],
   "source": [
    "datapath = f'../while_waiting_for_store.csv'\n",
    "df = pd.read_csv(datapath)\n",
    "df=df[df.columns[2:]]\n",
    "df.head()"
   ]
  },
  {
   "cell_type": "code",
   "execution_count": 3,
   "id": "ab965eff-e1eb-416f-b80c-850554d8026c",
   "metadata": {},
   "outputs": [],
   "source": [
    "df = df.fillna(value=str(''))\n",
    "df['text'] = df['title'] + '  ' + df['selftext']\n",
    "df['text'] = df['text'].fillna(value='').astype(str)\n",
    "df_clean = df[df.relevance!=-1]\n"
   ]
  },
  {
   "cell_type": "code",
   "execution_count": 6,
   "id": "25d2231d-fef1-42cf-a73e-188cac932727",
   "metadata": {},
   "outputs": [
    {
     "name": "stdout",
     "output_type": "stream",
     "text": [
      "66 8 9\n"
     ]
    }
   ],
   "source": [
    "np.random.seed(112)\n",
    "df_train, df_val, df_test = np.split(df_clean.sample(frac=1, random_state=42), \n",
    "                                     [int(.8*len(df_clean)), int(.9*len(df_clean))])\n",
    "\n",
    "print(len(df_train),len(df_val), len(df_test))"
   ]
  },
  {
   "cell_type": "code",
   "execution_count": 7,
   "id": "30242239-de70-4c03-8f56-9f5ade43518d",
   "metadata": {},
   "outputs": [
    {
     "name": "stderr",
     "output_type": "stream",
     "text": [
      "Some weights of the model checkpoint at bert-base-cased were not used when initializing BertModel: ['cls.seq_relationship.weight', 'cls.predictions.transform.LayerNorm.bias', 'cls.predictions.transform.LayerNorm.weight', 'cls.predictions.transform.dense.bias', 'cls.predictions.bias', 'cls.predictions.transform.dense.weight', 'cls.seq_relationship.bias', 'cls.predictions.decoder.weight']\n",
      "- This IS expected if you are initializing BertModel from the checkpoint of a model trained on another task or with another architecture (e.g. initializing a BertForSequenceClassification model from a BertForPreTraining model).\n",
      "- This IS NOT expected if you are initializing BertModel from the checkpoint of a model that you expect to be exactly identical (initializing a BertForSequenceClassification model from a BertForSequenceClassification model).\n",
      "100%|██████████████████████████████████████████████████████████████████| 33/33 [00:48<00:00,  1.47s/it]\n"
     ]
    },
    {
     "name": "stdout",
     "output_type": "stream",
     "text": [
      "Epochs: 1 | Train Loss:  0.369 | Train Accuracy:  0.606 | Val Loss:  0.390 | Val Accuracy:  0.250\n"
     ]
    },
    {
     "name": "stderr",
     "output_type": "stream",
     "text": [
      "100%|██████████████████████████████████████████████████████████████████| 33/33 [00:51<00:00,  1.55s/it]\n"
     ]
    },
    {
     "name": "stdout",
     "output_type": "stream",
     "text": [
      "Epochs: 2 | Train Loss:  0.361 | Train Accuracy:  0.606 | Val Loss:  0.325 | Val Accuracy:  0.625\n"
     ]
    }
   ],
   "source": [
    "EPOCHS = 2\n",
    "model = BertClassifier()\n",
    "LR = 1e-6\n",
    "              \n",
    "train(model, df_train, df_val, LR, EPOCHS)"
   ]
  },
  {
   "cell_type": "code",
   "execution_count": 8,
   "id": "ccc00f0a-9a15-4942-9c9b-2f9789c8dd22",
   "metadata": {},
   "outputs": [
    {
     "name": "stdout",
     "output_type": "stream",
     "text": [
      "Test Accuracy:  0.667\n"
     ]
    }
   ],
   "source": [
    "evaluate(model, df_test)"
   ]
  },
  {
   "cell_type": "code",
   "execution_count": null,
   "id": "b9d189bc-d215-4eff-9ebd-8a4f97f09fda",
   "metadata": {},
   "outputs": [],
   "source": [
    "pickle.dump(model,open('../model/bert.pckl','wb'))"
   ]
  }
 ],
 "metadata": {
  "kernelspec": {
   "display_name": "Python 3 (ipykernel)",
   "language": "python",
   "name": "python3"
  },
  "language_info": {
   "codemirror_mode": {
    "name": "ipython",
    "version": 3
   },
   "file_extension": ".py",
   "mimetype": "text/x-python",
   "name": "python",
   "nbconvert_exporter": "python",
   "pygments_lexer": "ipython3",
   "version": "3.9.12"
  },
  "widgets": {
   "application/vnd.jupyter.widget-state+json": {
    "state": {},
    "version_major": 2,
    "version_minor": 0
   }
  }
 },
 "nbformat": 4,
 "nbformat_minor": 5
}
