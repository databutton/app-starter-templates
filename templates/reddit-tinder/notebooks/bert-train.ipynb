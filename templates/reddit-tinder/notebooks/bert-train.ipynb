{
 "cells": [
  {
   "cell_type": "code",
   "execution_count": 1,
   "id": "2f3a8fd1-25a9-426d-a6be-c93b750cbcb8",
   "metadata": {},
   "outputs": [],
   "source": [
    "import sys\n",
    "sys.path.append('../')\n",
    "import pandas as pd\n",
    "import numpy as np\n",
    "import pickle\n",
    "import torch\n",
    "from lib.rmodel import Dataset, BertClassifier, train, predict, evaluate"
   ]
  },
  {
   "cell_type": "code",
   "execution_count": 2,
   "id": "47a53036-31ab-4374-bf15-a4dca17a7cbf",
   "metadata": {},
   "outputs": [
    {
     "data": {
      "text/html": [
       "<div>\n",
       "<style scoped>\n",
       "    .dataframe tbody tr th:only-of-type {\n",
       "        vertical-align: middle;\n",
       "    }\n",
       "\n",
       "    .dataframe tbody tr th {\n",
       "        vertical-align: top;\n",
       "    }\n",
       "\n",
       "    .dataframe thead th {\n",
       "        text-align: right;\n",
       "    }\n",
       "</style>\n",
       "<table border=\"1\" class=\"dataframe\">\n",
       "  <thead>\n",
       "    <tr style=\"text-align: right;\">\n",
       "      <th></th>\n",
       "      <th>title</th>\n",
       "      <th>selftext</th>\n",
       "      <th>full_link</th>\n",
       "      <th>num_comments</th>\n",
       "      <th>score</th>\n",
       "      <th>retrieved_on</th>\n",
       "      <th>relevance</th>\n",
       "    </tr>\n",
       "  </thead>\n",
       "  <tbody>\n",
       "    <tr>\n",
       "      <th>0</th>\n",
       "      <td>Best papers</td>\n",
       "      <td>TLDR: What papers in your sub field do you thi...</td>\n",
       "      <td>https://www.reddit.com/r/datascience/comments/...</td>\n",
       "      <td>0</td>\n",
       "      <td>1</td>\n",
       "      <td>1650307487</td>\n",
       "      <td>-1</td>\n",
       "    </tr>\n",
       "    <tr>\n",
       "      <th>1</th>\n",
       "      <td>I Need Help With My Honors Chemistry Project D...</td>\n",
       "      <td># Hi so in my Honors Chem Project I measured t...</td>\n",
       "      <td>https://www.reddit.com/r/datascience/comments/...</td>\n",
       "      <td>0</td>\n",
       "      <td>1</td>\n",
       "      <td>1650310497</td>\n",
       "      <td>-1</td>\n",
       "    </tr>\n",
       "    <tr>\n",
       "      <th>2</th>\n",
       "      <td>Ubiquant Market Prediction EDA - Complete Sour...</td>\n",
       "      <td>NaN</td>\n",
       "      <td>https://www.reddit.com/r/datascience/comments/...</td>\n",
       "      <td>0</td>\n",
       "      <td>1</td>\n",
       "      <td>1650310673</td>\n",
       "      <td>-1</td>\n",
       "    </tr>\n",
       "    <tr>\n",
       "      <th>3</th>\n",
       "      <td>Hello Everyone! Im usuing the ARIMA Model to d...</td>\n",
       "      <td>NaN</td>\n",
       "      <td>https://www.reddit.com/r/datascience/comments/...</td>\n",
       "      <td>0</td>\n",
       "      <td>1</td>\n",
       "      <td>1650312837</td>\n",
       "      <td>-1</td>\n",
       "    </tr>\n",
       "    <tr>\n",
       "      <th>4</th>\n",
       "      <td>Can an Economics graduate be a Data Scientist?</td>\n",
       "      <td>The previous post was deleted due to insuffici...</td>\n",
       "      <td>https://www.reddit.com/r/datascience/comments/...</td>\n",
       "      <td>0</td>\n",
       "      <td>1</td>\n",
       "      <td>1650313913</td>\n",
       "      <td>-1</td>\n",
       "    </tr>\n",
       "  </tbody>\n",
       "</table>\n",
       "</div>"
      ],
      "text/plain": [
       "                                               title  \\\n",
       "0                                        Best papers   \n",
       "1  I Need Help With My Honors Chemistry Project D...   \n",
       "2  Ubiquant Market Prediction EDA - Complete Sour...   \n",
       "3  Hello Everyone! Im usuing the ARIMA Model to d...   \n",
       "4     Can an Economics graduate be a Data Scientist?   \n",
       "\n",
       "                                            selftext  \\\n",
       "0  TLDR: What papers in your sub field do you thi...   \n",
       "1  # Hi so in my Honors Chem Project I measured t...   \n",
       "2                                                NaN   \n",
       "3                                                NaN   \n",
       "4  The previous post was deleted due to insuffici...   \n",
       "\n",
       "                                           full_link  num_comments  score  \\\n",
       "0  https://www.reddit.com/r/datascience/comments/...             0      1   \n",
       "1  https://www.reddit.com/r/datascience/comments/...             0      1   \n",
       "2  https://www.reddit.com/r/datascience/comments/...             0      1   \n",
       "3  https://www.reddit.com/r/datascience/comments/...             0      1   \n",
       "4  https://www.reddit.com/r/datascience/comments/...             0      1   \n",
       "\n",
       "   retrieved_on  relevance  \n",
       "0    1650307487         -1  \n",
       "1    1650310497         -1  \n",
       "2    1650310673         -1  \n",
       "3    1650312837         -1  \n",
       "4    1650313913         -1  "
      ]
     },
     "execution_count": 2,
     "metadata": {},
     "output_type": "execute_result"
    }
   ],
   "source": [
    "datapath = f'../while_waiting_for_store.csv'\n",
    "df = pd.read_csv(datapath)\n",
    "df=df[df.columns[2:]]\n",
    "df.head()"
   ]
  },
  {
   "cell_type": "code",
   "execution_count": 3,
   "id": "ab965eff-e1eb-416f-b80c-850554d8026c",
   "metadata": {},
   "outputs": [],
   "source": [
    "df = df.fillna(value=str(''))\n",
    "df['text'] = df['title'] + '  ' + df['selftext']\n",
    "df['text'] = df['text'].fillna(value='').astype(str)\n",
    "df_clean = df[df.relevance!=-1]\n"
   ]
  },
  {
   "cell_type": "code",
   "execution_count": 23,
   "id": "5ecb8d16-c4fd-4de4-91d7-87c7a2e865f3",
   "metadata": {},
   "outputs": [],
   "source": [
    "df_good = df_clean[df_clean['relevance']==1]\n",
    "df_bad  = df_clean[df_clean['relevance']==0]\n",
    "n = min(len(df_good), len(df_bad))"
   ]
  },
  {
   "cell_type": "code",
   "execution_count": 28,
   "id": "2683f0cd-e29c-40da-b6c2-a8afd7411f9d",
   "metadata": {},
   "outputs": [
    {
     "data": {
      "text/html": [
       "<div>\n",
       "<style scoped>\n",
       "    .dataframe tbody tr th:only-of-type {\n",
       "        vertical-align: middle;\n",
       "    }\n",
       "\n",
       "    .dataframe tbody tr th {\n",
       "        vertical-align: top;\n",
       "    }\n",
       "\n",
       "    .dataframe thead th {\n",
       "        text-align: right;\n",
       "    }\n",
       "</style>\n",
       "<table border=\"1\" class=\"dataframe\">\n",
       "  <thead>\n",
       "    <tr style=\"text-align: right;\">\n",
       "      <th></th>\n",
       "      <th>num_comments</th>\n",
       "      <th>score</th>\n",
       "      <th>retrieved_on</th>\n",
       "      <th>relevance</th>\n",
       "    </tr>\n",
       "  </thead>\n",
       "  <tbody>\n",
       "    <tr>\n",
       "      <th>count</th>\n",
       "      <td>12.000000</td>\n",
       "      <td>12.000000</td>\n",
       "      <td>1.200000e+01</td>\n",
       "      <td>12.000000</td>\n",
       "    </tr>\n",
       "    <tr>\n",
       "      <th>mean</th>\n",
       "      <td>9.833333</td>\n",
       "      <td>0.916667</td>\n",
       "      <td>1.602630e+09</td>\n",
       "      <td>0.500000</td>\n",
       "    </tr>\n",
       "    <tr>\n",
       "      <th>std</th>\n",
       "      <td>22.902296</td>\n",
       "      <td>0.288675</td>\n",
       "      <td>2.968302e+07</td>\n",
       "      <td>0.522233</td>\n",
       "    </tr>\n",
       "    <tr>\n",
       "      <th>min</th>\n",
       "      <td>0.000000</td>\n",
       "      <td>0.000000</td>\n",
       "      <td>1.561590e+09</td>\n",
       "      <td>0.000000</td>\n",
       "    </tr>\n",
       "    <tr>\n",
       "      <th>25%</th>\n",
       "      <td>0.750000</td>\n",
       "      <td>1.000000</td>\n",
       "      <td>1.582479e+09</td>\n",
       "      <td>0.000000</td>\n",
       "    </tr>\n",
       "    <tr>\n",
       "      <th>50%</th>\n",
       "      <td>1.000000</td>\n",
       "      <td>1.000000</td>\n",
       "      <td>1.596810e+09</td>\n",
       "      <td>0.500000</td>\n",
       "    </tr>\n",
       "    <tr>\n",
       "      <th>75%</th>\n",
       "      <td>7.000000</td>\n",
       "      <td>1.000000</td>\n",
       "      <td>1.627892e+09</td>\n",
       "      <td>1.000000</td>\n",
       "    </tr>\n",
       "    <tr>\n",
       "      <th>max</th>\n",
       "      <td>81.000000</td>\n",
       "      <td>1.000000</td>\n",
       "      <td>1.648220e+09</td>\n",
       "      <td>1.000000</td>\n",
       "    </tr>\n",
       "  </tbody>\n",
       "</table>\n",
       "</div>"
      ],
      "text/plain": [
       "       num_comments      score  retrieved_on  relevance\n",
       "count     12.000000  12.000000  1.200000e+01  12.000000\n",
       "mean       9.833333   0.916667  1.602630e+09   0.500000\n",
       "std       22.902296   0.288675  2.968302e+07   0.522233\n",
       "min        0.000000   0.000000  1.561590e+09   0.000000\n",
       "25%        0.750000   1.000000  1.582479e+09   0.000000\n",
       "50%        1.000000   1.000000  1.596810e+09   0.500000\n",
       "75%        7.000000   1.000000  1.627892e+09   1.000000\n",
       "max       81.000000   1.000000  1.648220e+09   1.000000"
      ]
     },
     "execution_count": 28,
     "metadata": {},
     "output_type": "execute_result"
    }
   ],
   "source": [
    "df_clean = pd.concat([df_good.sample(n), df_bad.sample(n)])\n",
    "df_clean.describe()"
   ]
  },
  {
   "cell_type": "code",
   "execution_count": 29,
   "id": "25d2231d-fef1-42cf-a73e-188cac932727",
   "metadata": {},
   "outputs": [
    {
     "name": "stdout",
     "output_type": "stream",
     "text": [
      "9 1 2\n"
     ]
    }
   ],
   "source": [
    "np.random.seed(112)\n",
    "df_train, df_val, df_test = np.split(df_clean.sample(frac=1, random_state=42), \n",
    "                                     [int(.8*len(df_clean)), int(.9*len(df_clean))])\n",
    "\n",
    "print(len(df_train),len(df_val), len(df_test))"
   ]
  },
  {
   "cell_type": "code",
   "execution_count": 30,
   "id": "30242239-de70-4c03-8f56-9f5ade43518d",
   "metadata": {},
   "outputs": [
    {
     "name": "stderr",
     "output_type": "stream",
     "text": [
      "Some weights of the model checkpoint at bert-base-cased were not used when initializing BertModel: ['cls.seq_relationship.bias', 'cls.predictions.transform.LayerNorm.bias', 'cls.predictions.transform.dense.weight', 'cls.predictions.bias', 'cls.predictions.transform.dense.bias', 'cls.predictions.transform.LayerNorm.weight', 'cls.seq_relationship.weight', 'cls.predictions.decoder.weight']\n",
      "- This IS expected if you are initializing BertModel from the checkpoint of a model trained on another task or with another architecture (e.g. initializing a BertForSequenceClassification model from a BertForPreTraining model).\n",
      "- This IS NOT expected if you are initializing BertModel from the checkpoint of a model that you expect to be exactly identical (initializing a BertForSequenceClassification model from a BertForSequenceClassification model).\n",
      "100%|████████████████████████████████████████████████████████████████████████████████████████████████████████████████████████| 5/5 [00:06<00:00,  1.35s/it]\n"
     ]
    },
    {
     "name": "stdout",
     "output_type": "stream",
     "text": [
      "Epochs: 1 | Train Loss:  0.403 | Train Accuracy:  0.556 | Val Loss:  0.929 | Val Accuracy:  0.000\n"
     ]
    },
    {
     "name": "stderr",
     "output_type": "stream",
     "text": [
      "100%|████████████████████████████████████████████████████████████████████████████████████████████████████████████████████████| 5/5 [00:06<00:00,  1.31s/it]\n"
     ]
    },
    {
     "name": "stdout",
     "output_type": "stream",
     "text": [
      "Epochs: 2 | Train Loss:  0.375 | Train Accuracy:  0.556 | Val Loss:  0.940 | Val Accuracy:  0.000\n"
     ]
    }
   ],
   "source": [
    "EPOCHS = 2\n",
    "model = BertClassifier()\n",
    "LR = 1e-6\n",
    "              \n",
    "train(model, df_train, df_val, LR, EPOCHS)"
   ]
  },
  {
   "cell_type": "code",
   "execution_count": 31,
   "id": "ccc00f0a-9a15-4942-9c9b-2f9789c8dd22",
   "metadata": {},
   "outputs": [
    {
     "name": "stdout",
     "output_type": "stream",
     "text": [
      "Test Accuracy:  0.500\n"
     ]
    }
   ],
   "source": [
    "evaluate(model, df_test)"
   ]
  },
  {
   "cell_type": "code",
   "execution_count": 32,
   "id": "b9d189bc-d215-4eff-9ebd-8a4f97f09fda",
   "metadata": {},
   "outputs": [],
   "source": [
    "torch.save(model, '../model/bert.torch')"
   ]
  },
  {
   "cell_type": "code",
   "execution_count": null,
   "id": "afe2c635-b3f8-4fe8-9eb6-e4f2715642dd",
   "metadata": {},
   "outputs": [],
   "source": []
  }
 ],
 "metadata": {
  "kernelspec": {
   "display_name": "Python 3 (ipykernel)",
   "language": "python",
   "name": "python3"
  },
  "language_info": {
   "codemirror_mode": {
    "name": "ipython",
    "version": 3
   },
   "file_extension": ".py",
   "mimetype": "text/x-python",
   "name": "python",
   "nbconvert_exporter": "python",
   "pygments_lexer": "ipython3",
   "version": "3.9.12"
  },
  "widgets": {
   "application/vnd.jupyter.widget-state+json": {
    "state": {},
    "version_major": 2,
    "version_minor": 0
   }
  }
 },
 "nbformat": 4,
 "nbformat_minor": 5
}
