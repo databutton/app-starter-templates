{
 "cells": [
  {
   "cell_type": "code",
   "execution_count": 1,
   "id": "2f3a8fd1-25a9-426d-a6be-c93b750cbcb8",
   "metadata": {},
   "outputs": [],
   "source": [
    "import sys\n",
    "sys.path.append('../')\n",
    "import pandas as pd\n",
    "import pickle\n",
    "\n",
    "from lib.rmodel import Dataset, BertClassifier, train, predict"
   ]
  },
  {
   "cell_type": "code",
   "execution_count": 2,
   "id": "47a53036-31ab-4374-bf15-a4dca17a7cbf",
   "metadata": {},
   "outputs": [],
   "source": [
    "datapath = f'../while_waiting_for_store.csv'\n",
    "df = pd.read_csv(datapath)\n",
    "df=df[df.columns[2:]]\n",
    "df.head()\n",
    "df = df.fillna(value=str(''))\n",
    "df['text'] = df['title'] + '  ' + df['selftext']\n",
    "df['text'] = df['text'].fillna(value='').astype(str)\n",
    "df_clean = df[df.relevance!=-1]\n"
   ]
  },
  {
   "cell_type": "code",
   "execution_count": 3,
   "id": "fe138cbe-62f4-474d-9933-e696db3a8429",
   "metadata": {},
   "outputs": [],
   "source": [
    "model = pickle.load(open('../model/bert.pckl','rb'))"
   ]
  },
  {
   "cell_type": "code",
   "execution_count": null,
   "id": "1f086cac-4e83-468d-83a6-9cd59f19b21d",
   "metadata": {},
   "outputs": [],
   "source": [
    "df_pred = df_clean['text'].copy()\n",
    "pred = predict(model, df_pred)"
   ]
  },
  {
   "cell_type": "code",
   "execution_count": null,
   "id": "34965347-253c-4b30-a760-e19fdf80476a",
   "metadata": {},
   "outputs": [],
   "source": [
    "pred.sort_values('relevance', ascending=False)"
   ]
  },
  {
   "cell_type": "code",
   "execution_count": null,
   "id": "919658db-98d6-484d-884a-211227c280ea",
   "metadata": {},
   "outputs": [],
   "source": []
  },
  {
   "cell_type": "code",
   "execution_count": null,
   "id": "cfdb6d9c-0693-46f8-bf06-6d38a204a8d2",
   "metadata": {},
   "outputs": [],
   "source": []
  }
 ],
 "metadata": {
  "kernelspec": {
   "display_name": "Python 3 (ipykernel)",
   "language": "python",
   "name": "python3"
  },
  "language_info": {
   "codemirror_mode": {
    "name": "ipython",
    "version": 3
   },
   "file_extension": ".py",
   "mimetype": "text/x-python",
   "name": "python",
   "nbconvert_exporter": "python",
   "pygments_lexer": "ipython3",
   "version": "3.9.12"
  },
  "widgets": {
   "application/vnd.jupyter.widget-state+json": {
    "state": {},
    "version_major": 2,
    "version_minor": 0
   }
  }
 },
 "nbformat": 4,
 "nbformat_minor": 5
}
