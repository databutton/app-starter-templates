{
 "cells": [
  {
   "cell_type": "code",
   "execution_count": 3,
   "id": "adb03b36-59ef-48fd-9d18-568fa28d3164",
   "metadata": {},
   "outputs": [
    {
     "name": "stdout",
     "output_type": "stream",
     "text": [
      "Collecting pandas\n",
      "  Using cached pandas-1.4.2-cp39-cp39-macosx_11_0_arm64.whl (10.1 MB)\n",
      "Requirement already satisfied: python-dateutil>=2.8.1 in /Users/martinroed/miniforge3/lib/python3.9/site-packages (from pandas) (2.8.2)\n",
      "Requirement already satisfied: numpy>=1.20.0 in /Users/martinroed/miniforge3/lib/python3.9/site-packages (from pandas) (1.22.3)\n",
      "Requirement already satisfied: pytz>=2020.1 in /Users/martinroed/miniforge3/lib/python3.9/site-packages (from pandas) (2022.1)\n",
      "Requirement already satisfied: six>=1.5 in /Users/martinroed/miniforge3/lib/python3.9/site-packages (from python-dateutil>=2.8.1->pandas) (1.16.0)\n",
      "Installing collected packages: pandas\n",
      "Successfully installed pandas-1.4.2\n"
     ]
    }
   ],
   "source": [
    "!pip install pandas"
   ]
  },
  {
   "cell_type": "code",
   "execution_count": 5,
   "id": "7e2d0223-f273-4625-ae14-79d51aca4bc9",
   "metadata": {},
   "outputs": [],
   "source": [
    "import pandas as pd\n",
    "import requests"
   ]
  },
  {
   "cell_type": "code",
   "execution_count": 7,
   "id": "34c3f540-bd41-4ff1-b61c-34ec535e08a9",
   "metadata": {},
   "outputs": [
    {
     "data": {
      "text/plain": [
       "True"
      ]
     },
     "execution_count": 7,
     "metadata": {},
     "output_type": "execute_result"
    }
   ],
   "source": [
    "rq = requests.get(\n",
    "    'https://api.pushshift.io/reddit/search/submission',\n",
    "    params={\n",
    "        'subreddit': 'datascience',\n",
    "        'sort': 'asc',\n",
    "        'sort_type': 'created_utc',\n",
    "        'after': 1546297200,\n",
    "        'before': 1651059776,\n",
    "        'size': 500\n",
    "    }\n",
    ")\n",
    "rq.ok"
   ]
  },
  {
   "cell_type": "code",
   "execution_count": 12,
   "id": "653dba3d-3626-44bb-b61c-7868bbef5227",
   "metadata": {},
   "outputs": [],
   "source": [
    "data = rq.json()['data']\n",
    "lst = [[post['title'], post['selftext'], post['full_link'], post['num_comments'], post['score'], post['retrieved_on']] for post in data]"
   ]
  },
  {
   "cell_type": "code",
   "execution_count": 14,
   "id": "41267cd5-1a1f-495f-ad59-81f03d296825",
   "metadata": {},
   "outputs": [],
   "source": [
    "df = pd.DataFrame(data, columns=['title', 'selftext', 'full_link', 'num_comments', 'score', 'retrieved_on'])"
   ]
  },
  {
   "cell_type": "code",
   "execution_count": 15,
   "id": "b06cf2c3-ac88-483e-952c-6f9d946ef5f2",
   "metadata": {},
   "outputs": [
    {
     "data": {
      "text/html": [
       "<div>\n",
       "<style scoped>\n",
       "    .dataframe tbody tr th:only-of-type {\n",
       "        vertical-align: middle;\n",
       "    }\n",
       "\n",
       "    .dataframe tbody tr th {\n",
       "        vertical-align: top;\n",
       "    }\n",
       "\n",
       "    .dataframe thead th {\n",
       "        text-align: right;\n",
       "    }\n",
       "</style>\n",
       "<table border=\"1\" class=\"dataframe\">\n",
       "  <thead>\n",
       "    <tr style=\"text-align: right;\">\n",
       "      <th></th>\n",
       "      <th>title</th>\n",
       "      <th>selftext</th>\n",
       "      <th>full_link</th>\n",
       "      <th>num_comments</th>\n",
       "      <th>score</th>\n",
       "      <th>retrieved_on</th>\n",
       "    </tr>\n",
       "  </thead>\n",
       "  <tbody>\n",
       "    <tr>\n",
       "      <th>0</th>\n",
       "      <td>What kind of jobs should I shoot for just to g...</td>\n",
       "      <td>So I've been going through some online boot ca...</td>\n",
       "      <td>https://www.reddit.com/r/datascience/comments/...</td>\n",
       "      <td>1</td>\n",
       "      <td>1</td>\n",
       "      <td>1546306578</td>\n",
       "    </tr>\n",
       "    <tr>\n",
       "      <th>1</th>\n",
       "      <td>A collection of Bash scripts to install data s...</td>\n",
       "      <td></td>\n",
       "      <td>https://www.reddit.com/r/datascience/comments/...</td>\n",
       "      <td>0</td>\n",
       "      <td>1</td>\n",
       "      <td>1546315392</td>\n",
       "    </tr>\n",
       "    <tr>\n",
       "      <th>2</th>\n",
       "      <td>6 Major Benefits of Open Data</td>\n",
       "      <td></td>\n",
       "      <td>https://www.reddit.com/r/datascience/comments/...</td>\n",
       "      <td>0</td>\n",
       "      <td>1</td>\n",
       "      <td>1546321019</td>\n",
       "    </tr>\n",
       "    <tr>\n",
       "      <th>3</th>\n",
       "      <td>Hey Google! When did I ask you to read my Purc...</td>\n",
       "      <td></td>\n",
       "      <td>https://www.reddit.com/r/datascience/comments/...</td>\n",
       "      <td>0</td>\n",
       "      <td>1</td>\n",
       "      <td>1546330166</td>\n",
       "    </tr>\n",
       "    <tr>\n",
       "      <th>4</th>\n",
       "      <td>An Idiot ’ s guide to Support vector machines ...</td>\n",
       "      <td></td>\n",
       "      <td>https://www.reddit.com/r/datascience/comments/...</td>\n",
       "      <td>6</td>\n",
       "      <td>1</td>\n",
       "      <td>1546339598</td>\n",
       "    </tr>\n",
       "  </tbody>\n",
       "</table>\n",
       "</div>"
      ],
      "text/plain": [
       "                                               title  \\\n",
       "0  What kind of jobs should I shoot for just to g...   \n",
       "1  A collection of Bash scripts to install data s...   \n",
       "2                      6 Major Benefits of Open Data   \n",
       "3  Hey Google! When did I ask you to read my Purc...   \n",
       "4  An Idiot ’ s guide to Support vector machines ...   \n",
       "\n",
       "                                            selftext  \\\n",
       "0  So I've been going through some online boot ca...   \n",
       "1                                                      \n",
       "2                                                      \n",
       "3                                                      \n",
       "4                                                      \n",
       "\n",
       "                                           full_link  num_comments  score  \\\n",
       "0  https://www.reddit.com/r/datascience/comments/...             1      1   \n",
       "1  https://www.reddit.com/r/datascience/comments/...             0      1   \n",
       "2  https://www.reddit.com/r/datascience/comments/...             0      1   \n",
       "3  https://www.reddit.com/r/datascience/comments/...             0      1   \n",
       "4  https://www.reddit.com/r/datascience/comments/...             6      1   \n",
       "\n",
       "   retrieved_on  \n",
       "0    1546306578  \n",
       "1    1546315392  \n",
       "2    1546321019  \n",
       "3    1546330166  \n",
       "4    1546339598  "
      ]
     },
     "execution_count": 15,
     "metadata": {},
     "output_type": "execute_result"
    }
   ],
   "source": [
    "df.head()"
   ]
  },
  {
   "cell_type": "code",
   "execution_count": 37,
   "id": "8a5ef288-3f2b-4276-9057-b0502e8b9242",
   "metadata": {},
   "outputs": [],
   "source": [
    "from datetime import datetime\n",
    "import os\n",
    "\n",
    "jan_2019_timestamp = 1546297200\n",
    "import time\n",
    "\n",
    "def fetch_all_data(after_timestamp=jan_2019_timestamp):\n",
    "    fname = f\"reddit-{after_timestamp}.csv\"\n",
    "    print(f\"Running for {after_timestamp}\")\n",
    "    params = {\n",
    "        'subreddit': 'datascience',\n",
    "        'sort': 'asc',\n",
    "        'sort_type': 'created_utc',\n",
    "        'after': after_timestamp,\n",
    "        'before': 1651059776,\n",
    "        'size': 500\n",
    "    }\n",
    "    req = requests.get('https://api.pushshift.io/reddit/search/submission', params=params)\n",
    "    if not req.ok:\n",
    "        if req.status_code == 429:\n",
    "            time.sleep(1)\n",
    "            print(\"Retrying...\")\n",
    "            return fetch_all_data(after_timestamp)\n",
    "    data = req.json()['data']\n",
    "    lst = [[post['title'], post['selftext'] if 'selftext' in 'post' else None, post['full_link'], post['num_comments'], post['score'], post['retrieved_on']] for post in data]\n",
    "    df = pd.DataFrame(data, columns=['title', 'selftext', 'full_link', 'num_comments', 'score', 'retrieved_on'])\n",
    "    prev_timestamp = df['retrieved_on'].max()\n",
    "    if not prev_timestamp:\n",
    "        print(\"Finished!\")\n",
    "        return\n",
    "    df.to_csv(fname)\n",
    "    print(f\"Finished with {datetime.fromtimestamp(after_timestamp)}, starting for {datetime.fromtimestamp(prev_timestamp)}\")\n",
    "    \n",
    "    return fetch_all_data(prev_timestamp)\n",
    "    "
   ]
  },
  {
   "cell_type": "code",
   "execution_count": null,
   "id": "6067fd54-12b8-418a-85e2-7bec6954fd88",
   "metadata": {},
   "outputs": [],
   "source": [
    "fetch_all_data()"
   ]
  },
  {
   "cell_type": "code",
   "execution_count": 45,
   "id": "56679f85-7e46-4888-b95d-9e942e5fd769",
   "metadata": {},
   "outputs": [],
   "source": [
    "import glob\n",
    "joined_files = os.path.join(\".\", \"reddit-*.csv\")\n",
    "  \n",
    "# A list of all joined files is returned\n",
    "joined_list = glob.glob(joined_files)\n",
    "  \n",
    "# Finally, the files are joined\n",
    "df = pd.concat(map(pd.read_csv, joined_list), ignore_index=True)\n",
    "df['relevance'] = -1\n",
    "df.to_csv('full_dataset.csv')"
   ]
  },
  {
   "cell_type": "code",
   "execution_count": 46,
   "id": "f3347c46-6740-454f-a832-4b53d63f6b17",
   "metadata": {},
   "outputs": [
    {
     "data": {
      "text/plain": [
       "RayContext(dashboard_url='', python_version='3.9.10', ray_version='1.12.0', ray_commit='f18fc31c7562990955556899090f8e8656b48d2d', address_info={'node_ip_address': '127.0.0.1', 'raylet_ip_address': '127.0.0.1', 'redis_address': None, 'object_store_address': '/tmp/ray/session_2022-04-27_16-01-06_600500_59654/sockets/plasma_store', 'raylet_socket_name': '/tmp/ray/session_2022-04-27_16-01-06_600500_59654/sockets/raylet', 'webui_url': '', 'session_dir': '/tmp/ray/session_2022-04-27_16-01-06_600500_59654', 'metrics_export_port': 61043, 'gcs_address': '127.0.0.1:61365', 'address': '127.0.0.1:61365', 'node_id': '1d636d13a996f330004f13d7ed0282950021862ebaca5e1c454f34de'})"
      ]
     },
     "execution_count": 46,
     "metadata": {},
     "output_type": "execute_result"
    }
   ],
   "source": [
    "\n",
    "import ray\n",
    "ray.init()"
   ]
  },
  {
   "cell_type": "code",
   "execution_count": 49,
   "id": "500a9cb2-c8da-431c-9b49-507c946d53f7",
   "metadata": {},
   "outputs": [
    {
     "name": "stdout",
     "output_type": "stream",
     "text": [
      "Requirement already satisfied: pyarrow in /Users/martinroed/miniforge3/lib/python3.9/site-packages (7.0.0)\n",
      "Requirement already satisfied: numpy>=1.16.6 in /Users/martinroed/miniforge3/lib/python3.9/site-packages (from pyarrow) (1.22.3)\n",
      "zsh:1: no matches found: ray[data]\n"
     ]
    }
   ],
   "source": [
    "!pip install pyarrow\n",
    "!pip install ray[data]"
   ]
  },
  {
   "cell_type": "code",
   "execution_count": 50,
   "id": "ef86ee48-24f1-454a-bb15-07dc12d105cf",
   "metadata": {},
   "outputs": [],
   "source": [
    "ds = ray.data.from_pandas(df)"
   ]
  },
  {
   "cell_type": "code",
   "execution_count": 52,
   "id": "c82956c2-fb22-4486-8e37-493744421c92",
   "metadata": {},
   "outputs": [
    {
     "name": "stderr",
     "output_type": "stream",
     "text": [
      "Write Progress: 100%|███████████████████████████████████████| 1/1 [00:00<00:00,  1.72it/s]\n"
     ]
    }
   ],
   "source": [
    "ds.write_csv('training-data.csv')"
   ]
  },
  {
   "cell_type": "code",
   "execution_count": null,
   "id": "c2a3af30-1114-4282-9557-b82630c00e55",
   "metadata": {},
   "outputs": [],
   "source": []
  }
 ],
 "metadata": {
  "kernelspec": {
   "display_name": "Python 3 (ipykernel)",
   "language": "python",
   "name": "python3"
  },
  "language_info": {
   "codemirror_mode": {
    "name": "ipython",
    "version": 3
   },
   "file_extension": ".py",
   "mimetype": "text/x-python",
   "name": "python",
   "nbconvert_exporter": "python",
   "pygments_lexer": "ipython3",
   "version": "3.9.10"
  }
 },
 "nbformat": 4,
 "nbformat_minor": 5
}
