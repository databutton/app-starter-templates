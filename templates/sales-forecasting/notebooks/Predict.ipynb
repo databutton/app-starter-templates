{
 "cells": [
  {
   "cell_type": "code",
   "execution_count": 278,
   "id": "81f2544f-ebc9-4b4b-ae58-074edf2d0e33",
   "metadata": {},
   "outputs": [],
   "source": [
    "import sys\n",
    "sys.path.append('../')\n",
    "\n",
    "import pandas as pd\n",
    "import lib.estimate"
   ]
  },
  {
   "cell_type": "code",
   "execution_count": 280,
   "id": "7bb63a32-cb13-4027-bbe8-ca0265baadc7",
   "metadata": {},
   "outputs": [],
   "source": [
    "df = pd.read_csv('../data/generated/Quantity.csv')\n",
    "dg = df.groupby('Sub-Category').sum()\n",
    "dg =lib.estimate.predict_linear(dg)"
   ]
  },
  {
   "cell_type": "code",
   "execution_count": 281,
   "id": "0f6a93cc-062f-43c1-bb76-3aaded6dc830",
   "metadata": {},
   "outputs": [],
   "source": [
    "df = lib.estimate.assign_to_products(df, dg)"
   ]
  },
  {
   "cell_type": "code",
   "execution_count": 283,
   "id": "4cce41af-a0d6-422b-92f9-ef76e361ac96",
   "metadata": {},
   "outputs": [],
   "source": [
    "df.to_csv('../data/predicted/Quantity-estimated.csv')"
   ]
  },
  {
   "cell_type": "code",
   "execution_count": null,
   "id": "afc72e00-07b7-4419-995a-43d9eab6b444",
   "metadata": {},
   "outputs": [],
   "source": []
  }
 ],
 "metadata": {
  "kernelspec": {
   "display_name": "Python 3",
   "language": "python",
   "name": "python3"
  },
  "language_info": {
   "codemirror_mode": {
    "name": "ipython",
    "version": 3
   },
   "file_extension": ".py",
   "mimetype": "text/x-python",
   "name": "python",
   "nbconvert_exporter": "python",
   "pygments_lexer": "ipython3",
   "version": "3.8.8"
  },
  "widgets": {
   "application/vnd.jupyter.widget-state+json": {
    "state": {},
    "version_major": 2,
    "version_minor": 0
   }
  }
 },
 "nbformat": 4,
 "nbformat_minor": 5
}
