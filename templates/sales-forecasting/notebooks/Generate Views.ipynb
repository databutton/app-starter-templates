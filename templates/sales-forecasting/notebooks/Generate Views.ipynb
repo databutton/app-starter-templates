{
 "cells": [
  {
   "cell_type": "code",
   "execution_count": 1,
   "id": "380296ea-800c-482d-880f-e787a6c29027",
   "metadata": {},
   "outputs": [],
   "source": [
    "import sys\n",
    "sys.path.append('../lib')\n",
    "import pandas as pd\n",
    "import numpy as np\n",
    "import json\n",
    "\n",
    "import views"
   ]
  },
  {
   "cell_type": "code",
   "execution_count": 4,
   "id": "bf4ed487-467a-4276-8b8c-6e5eee38f075",
   "metadata": {},
   "outputs": [],
   "source": [
    "df = pd.read_csv('../data/raw/superstore.csv', encoding='windows-1252')"
   ]
  },
  {
   "cell_type": "code",
   "execution_count": 3,
   "id": "91792a0a-7d28-4377-b794-847cee2a666c",
   "metadata": {},
   "outputs": [],
   "source": [
    "df['Order Date'] = pd.to_datetime(df['Order Date'])\n",
    "df = df.set_index(df['Order Date'])\n",
    "df = df.sort_index(ascending=False)\n",
    "df = df.drop(['Order Date'], axis=1)"
   ]
  },
  {
   "cell_type": "code",
   "execution_count": 4,
   "id": "0582caa9-5045-47cf-ae38-a66851e2f8fa",
   "metadata": {},
   "outputs": [],
   "source": [
    "pivots = []\n",
    "stats = ['Quantity', 'Sales', 'Profit', 'Discount']\n",
    "for stat in stats:\n",
    "    dQ = views.make_pivot_table(df, stat)\n",
    "    dQ.to_csv('../data/generated/'+stat+'.csv')"
   ]
  },
  {
   "cell_type": "code",
   "execution_count": null,
   "id": "4916c36f-c3a1-4566-87e2-92509f95f143",
   "metadata": {},
   "outputs": [],
   "source": []
  }
 ],
 "metadata": {
  "kernelspec": {
   "display_name": "Python 3 (ipykernel)",
   "language": "python",
   "name": "python3"
  },
  "language_info": {
   "codemirror_mode": {
    "name": "ipython",
    "version": 3
   },
   "file_extension": ".py",
   "mimetype": "text/x-python",
   "name": "python",
   "nbconvert_exporter": "python",
   "pygments_lexer": "ipython3",
   "version": "3.9.10"
  },
  "widgets": {
   "application/vnd.jupyter.widget-state+json": {
    "state": {},
    "version_major": 2,
    "version_minor": 0
   }
  }
 },
 "nbformat": 4,
 "nbformat_minor": 5
}
